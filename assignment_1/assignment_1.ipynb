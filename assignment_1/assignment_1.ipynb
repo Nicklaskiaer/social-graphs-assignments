{
 "cells": [
  {
   "cell_type": "markdown",
   "id": "d145bae6",
   "metadata": {},
   "source": [
    "<div align=\"center\">\n",
    "\n",
    "# Social Graphs and Interactions 02805\n",
    "\n",
    "\n",
    "## Assignment 1\n",
    "\n",
    "\n",
    "#### Group 48 \n",
    "\n",
    "**Made By:**  \n",
    "Nicklas Thorvald Kiær, s216137\\\n",
    "Alexander Vaaben, \\\n",
    "Oliver Brandt,\n",
    "\n",
    "\n",
    "*30/10/2025*\n",
    "\n",
    "---\n",
    "\n",
    "</div>\n"
   ]
  },
  {
   "cell_type": "markdown",
   "id": "765ea357",
   "metadata": {},
   "source": [
    "# Assignment 1.1: Exploring WS and BA models\n",
    "\n",
    "## Part 1"
   ]
  },
  {
   "cell_type": "markdown",
   "id": "a350659a",
   "metadata": {},
   "source": [
    "### Question 1:\n",
    "##### **What's the problem with random networks as a model for real-world networks according to the argument in section 3.5 (near the end)?**\n",
    "\n",
    "Section 3.5 decribes the idea of so called \"hubs\". Hubs represent a single node with an amount of links that drastically exceedes the average number of links. This is not represented in the Erdos random networks, but occurs often in the real world networks we examine. An example of a hub mentioned in the book is Franklin Delano Roosevelt (FDR), who was known to have above 22000 connections, with people he met in real life. This is wildly above the average person. And is not represented in the random network."
   ]
  },
  {
   "cell_type": "markdown",
   "id": "9b384f18",
   "metadata": {},
   "source": [
    "### Question 2\n",
    "\n",
    "##### **List the four regimes that characterize random networks as a function of ⟨k⟩.**\n",
    "\n",
    "The four regimes are **subcritical**, **supercritical**, **critical** and **connected**, which all have different characteristics.\n",
    "- subcritical\n",
    "The subcritical regime is characterized by having a large amount of smaller groups. This means there is no \"winner\" in the clusters, refering to the compared size of the component (no giant component). For this regime ⟨k⟩ is in the span from 0-1. Expressed: $0 < ⟨k⟩ < 1$\n",
    "\n",
    "- supercritical\n",
    "Opposite of the subcritical, the supercritical regime describes a network that has a clear \"winner\", a giant component that captures most of the network. This occures when ⟨k⟩ is larger than 1. $⟨k⟩ > 1$\n",
    "\n",
    "- critical\n",
    "- connected"
   ]
  },
  {
   "cell_type": "markdown",
   "id": "2a69278d",
   "metadata": {},
   "source": []
  }
 ],
 "metadata": {
  "kernelspec": {
   "display_name": "social-graphs",
   "language": "python",
   "name": "python3"
  },
  "language_info": {
   "name": "python",
   "version": "3.13.5"
  }
 },
 "nbformat": 4,
 "nbformat_minor": 5
}

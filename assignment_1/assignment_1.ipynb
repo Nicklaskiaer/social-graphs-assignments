{
 "cells": [
  {
   "cell_type": "markdown",
   "id": "d145bae6",
   "metadata": {},
   "source": [
    "<div align=\"center\">\n",
    "\n",
    "# Social Graphs and Interactions 02805\n",
    "\n",
    "\n",
    "## Assignment 1\n",
    "\n",
    "\n",
    "#### Group 48 \n",
    "\n",
    "**Made By:**  \n",
    "Nicklas Thorvald Kiær, s216137\\\n",
    "Alexander Vaaben, \\\n",
    "Oliver Brandt,\n",
    "\n",
    "\n",
    "*30/10/2025*\n",
    "\n",
    "---\n",
    "\n",
    "</div>\n"
   ]
  },
  {
   "cell_type": "markdown",
   "id": "765ea357",
   "metadata": {},
   "source": [
    "# Assignment 1.1: Exploring WS and BA models"
   ]
  }
 ],
 "metadata": {
  "language_info": {
   "name": "python"
  }
 },
 "nbformat": 4,
 "nbformat_minor": 5
}
